{
  "nbformat": 4,
  "nbformat_minor": 0,
  "metadata": {
    "colab": {
      "name": "Untitled10.ipynb",
      "provenance": []
    },
    "kernelspec": {
      "name": "python3",
      "display_name": "Python 3"
    }
  },
  "cells": [
    {
      "cell_type": "markdown",
      "metadata": {
        "id": "IZtoWchtcoOw",
        "colab_type": "text"
      },
      "source": [
        "<h1>Presentation</h1>\n",
        "<h5><b>The business problem is the lake of data that can be found without manual inputs from other users<br>\n",
        "We decided to solve the problem by getting</b></h4>\n",
        "\n",
        "\n",
        "*   <b>The ip address of the user\n",
        "*   The latlng coordinates of the user\n",
        "*   Getting places near the user by forsquare API\n",
        "*   Preview the places on a minimap</b>\n",
        "\n",
        "<b>The methodology of working is geting the ip address using geocoder then use it to get the latlng of the client, then use the latlng to find near places with forsquare, then put recived data in dataframe and filter them, then show them on the map.\n",
        "\n"
      ]
    },
    {
      "cell_type": "code",
      "metadata": {
        "id": "2k42Oo1xb4yv",
        "colab_type": "code",
        "colab": {}
      },
      "source": [
        ""
      ],
      "execution_count": null,
      "outputs": []
    }
  ]
}