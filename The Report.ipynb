{
  "nbformat": 4,
  "nbformat_minor": 0,
  "metadata": {
    "colab": {
      "name": "Untitled10.ipynb",
      "provenance": []
    },
    "kernelspec": {
      "name": "python3",
      "display_name": "Python 3"
    }
  },
  "cells": [
    {
      "cell_type": "markdown",
      "metadata": {
        "id": "IZtoWchtcoOw",
        "colab_type": "text"
      },
      "source": [
        "<h1>The report</h1>\n",
        "<h5><b>1-The business problem is the lake of data that can be found without manual inputs from other users<br>\n",
        "2-The Data used to solve the problem is</b></h4>\n",
        "\n",
        "\n",
        "*   <b>The ip address of the user\n",
        "*   The latlng coordinates of the user</b>\n",
        "\n",
        "<b>3-The methodology of working is geting the ip address using geocoder then use it to get the latlng of the client, then use the latlng to find near places with forsquare, then put recived data in dataframe and filter them, then show them on the map.<br>\n",
        "4-The results was like the preidected and every thing worked fine<br>\n",
        "5-recommndations based on the reults is trying to search for more AI ideas to improve the app<br>\n",
        "6-Based on the results and how they improved the app , we Conclud that we should use AI more in our apps.\n",
        "\n"
      ]
    },
    {
      "cell_type": "code",
      "metadata": {
        "id": "2k42Oo1xb4yv",
        "colab_type": "code",
        "colab": {}
      },
      "source": [
        ""
      ],
      "execution_count": null,
      "outputs": []
    }
  ]
}