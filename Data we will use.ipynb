{
  "nbformat": 4,
  "nbformat_minor": 0,
  "metadata": {
    "colab": {
      "name": "Untitled8.ipynb",
      "provenance": []
    },
    "kernelspec": {
      "name": "python3",
      "display_name": "Python 3"
    }
  },
  "cells": [
    {
      "cell_type": "markdown",
      "metadata": {
        "id": "vt8XG5KvLD86",
        "colab_type": "text"
      },
      "source": [
        "<h1>Data we will use</h1>\n",
        "<b>Nothing specail this is the only things we will use\n",
        "1-the user ip address and we will get it using geocoder lib\n",
        "2-ip latlng and we will get then using the ip we got recently\n",
        "and we will use the lating to get some information about the places near that location."
      ]
    }
  ]
}