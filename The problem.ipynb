{
  "nbformat": 4,
  "nbformat_minor": 0,
  "metadata": {
    "colab": {
      "name": "Untitled7.ipynb",
      "provenance": []
    },
    "kernelspec": {
      "name": "python3",
      "display_name": "Python 3"
    }
  },
  "cells": [
    {
      "cell_type": "markdown",
      "metadata": {
        "id": "irDtgDTU30YV",
        "colab_type": "text"
      },
      "source": [
        "<h1>The problem</h1>\n",
        "<b>a new company created an app to provide some information about places near their client, but the places information is provided throw other clients, but sadly this make the app useless as not always the other clients is online to provide information , and sometiems the information is wrong too, so we will add a new feature that get the information of places near the client throw forsquare"
      ]
    },
    {
      "cell_type": "code",
      "metadata": {
        "id": "EePdo3y73S7J",
        "colab_type": "code",
        "colab": {}
      },
      "source": [
        ""
      ],
      "execution_count": null,
      "outputs": []
    }
  ]
}